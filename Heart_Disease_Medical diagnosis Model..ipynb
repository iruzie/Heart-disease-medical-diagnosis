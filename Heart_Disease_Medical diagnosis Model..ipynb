{
 "cells": [
  {
   "cell_type": "code",
   "execution_count": 4,
   "id": "fc9ad3a5-1fa8-4f59-8f38-e834acee99ce",
   "metadata": {},
   "outputs": [
    {
     "name": "stdout",
     "output_type": "stream",
     "text": [
      "\n",
      "Dataset Overview:\n",
      "<class 'pandas.core.frame.DataFrame'>\n",
      "RangeIndex: 303 entries, 0 to 302\n",
      "Data columns (total 14 columns):\n",
      " #   Column    Non-Null Count  Dtype  \n",
      "---  ------    --------------  -----  \n",
      " 0   age       303 non-null    int64  \n",
      " 1   sex       303 non-null    int64  \n",
      " 2   cp        303 non-null    int64  \n",
      " 3   trestbps  303 non-null    int64  \n",
      " 4   chol      303 non-null    int64  \n",
      " 5   fbs       303 non-null    int64  \n",
      " 6   restecg   303 non-null    int64  \n",
      " 7   thalach   303 non-null    int64  \n",
      " 8   exang     303 non-null    int64  \n",
      " 9   oldpeak   303 non-null    float64\n",
      " 10  slope     303 non-null    int64  \n",
      " 11  ca        303 non-null    int64  \n",
      " 12  thal      303 non-null    int64  \n",
      " 13  target    303 non-null    int64  \n",
      "dtypes: float64(1), int64(13)\n",
      "memory usage: 33.3 KB\n",
      "None\n",
      "\n",
      "Missing Values Check:\n",
      "age         0\n",
      "sex         0\n",
      "cp          0\n",
      "trestbps    0\n",
      "chol        0\n",
      "fbs         0\n",
      "restecg     0\n",
      "thalach     0\n",
      "exang       0\n",
      "oldpeak     0\n",
      "slope       0\n",
      "ca          0\n",
      "thal        0\n",
      "target      0\n",
      "dtype: int64\n",
      "\n",
      "Feature set shape: (303, 13)\n",
      "Target set shape: (303,)\n"
     ]
    }
   ],
   "source": [
    "# Import necessary libraries\n",
    "import pandas as pd\n",
    "\n",
    "# Load the dataset\n",
    "data = pd.read_csv('Heart_disease_cleveland_new.csv')\n",
    "\n",
    "# Display basic information about the dataset\n",
    "print(\"\\nDataset Overview:\")\n",
    "print(data.info())\n",
    "\n",
    "# Check for missing values (if any)\n",
    "print(\"\\nMissing Values Check:\")\n",
    "print(data.isnull().sum())\n",
    "\n",
    "# Separate features (X) and target variable (y)\n",
    "X = data.drop('target', axis=1)  # Features\n",
    "y = data['target']               # Target (1 = Heart Disease, 0 = No Heart Disease)\n",
    "\n",
    "\n",
    "print(f\"\\nFeature set shape: {X.shape}\")\n",
    "print(f\"Target set shape: {y.shape}\")\n"
   ]
  },
  {
   "cell_type": "code",
   "execution_count": 6,
   "id": "6dc239fb-54ba-418c-8992-7b5ab153d700",
   "metadata": {},
   "outputs": [
    {
     "name": "stdout",
     "output_type": "stream",
     "text": [
      "\n",
      "Model training complete.\n"
     ]
    }
   ],
   "source": [
    "# Import necessary libraries\n",
    "from sklearn.model_selection import train_test_split\n",
    "from sklearn.neighbors import KNeighborsClassifier\n",
    "\n",
    "# Split the dataset into training and testing sets (70% train, 30% test)\n",
    "X_train, X_test, y_train, y_test = train_test_split(X, y, test_size=0.3, random_state=42)\n",
    "\n",
    "# Initialize the K-Nearest Neighbors classifier with 5 neighbors\n",
    "knn = KNeighborsClassifier(n_neighbors=5)\n",
    "\n",
    "# Train the model on the training set\n",
    "knn.fit(X_train, y_train)\n",
    "\n",
    "print(\"\\nModel training complete.\")\n"
   ]
  },
  {
   "cell_type": "code",
   "execution_count": 7,
   "id": "717cd5ff-075e-4f8a-b98b-6e21d32a6c40",
   "metadata": {},
   "outputs": [
    {
     "name": "stdout",
     "output_type": "stream",
     "text": [
      "\n",
      "Model Accuracy: 68.13%\n"
     ]
    }
   ],
   "source": [
    "# Import the accuracy metric\n",
    "from sklearn.metrics import accuracy_score\n",
    "\n",
    "# Predict the target variable on the test set\n",
    "y_pred = knn.predict(X_test)\n",
    "\n",
    "# Calculate the model’s accuracy\n",
    "accuracy = accuracy_score(y_test, y_pred)\n",
    "print(f\"\\nModel Accuracy: {accuracy * 100:.2f}%\")\n"
   ]
  },
  {
   "cell_type": "code",
   "execution_count": 10,
   "id": "1bded138-611e-4ce1-9452-802abc0aae66",
   "metadata": {},
   "outputs": [
    {
     "name": "stdout",
     "output_type": "stream",
     "text": [
      "\n",
      "Welcome to the Heart Disease Risk Prediction System.\n",
      "Please provide the following information for risk assessment:\n"
     ]
    },
    {
     "name": "stdin",
     "output_type": "stream",
     "text": [
      "Age:  20\n",
      "Sex (1 = Male, 0 = Female):  1\n",
      "Chest Pain Type (0, 1, 2, 3):  3\n",
      "Resting Blood Pressure (e.g., 120):  100\n",
      "Cholesterol Level (e.g., 200):  180\n",
      "Fasting Blood Sugar > 120 mg/dl (1 = Yes, 0 = No):  1\n",
      "Resting ECG Results (0, 1, 2):  1\n",
      "Max Heart Rate Achieved:  40\n",
      "Exercise-Induced Angina (1 = Yes, 0 = No):  1\n",
      "ST Depression Induced by Exercise:  20\n",
      "Slope of Peak Exercise ST Segment (0, 1, 2):  2\n",
      "Major Vessels Colored by Fluoroscopy (0-4):  3\n",
      "Thalassemia (1 = Normal, 2 = Fixed Defect, 3 = Reversible Defect):  2\n"
     ]
    },
    {
     "name": "stdout",
     "output_type": "stream",
     "text": [
      "\n",
      "Data entry successful.\n",
      "\n",
      "Prediction Result: High Risk of Heart Disease.\n"
     ]
    }
   ],
   "source": [
    "import pandas as pd\n",
    "\n",
    "# Introduction for the user\n",
    "print(\"\\nWelcome to the Heart Disease Risk Prediction System.\")\n",
    "print(\"Please provide the following information for risk assessment:\")\n",
    "\n",
    "# Collect user input with basic error handling\n",
    "try:\n",
    "    age = int(input(\"Age: \"))\n",
    "    sex = int(input(\"Sex (1 = Male, 0 = Female): \"))\n",
    "    cp = int(input(\"Chest Pain Type (0, 1, 2, 3): \"))\n",
    "    trestbps = int(input(\"Resting Blood Pressure (e.g., 120): \"))\n",
    "    chol = int(input(\"Cholesterol Level (e.g., 200): \"))\n",
    "    fbs = int(input(\"Fasting Blood Sugar > 120 mg/dl (1 = Yes, 0 = No): \"))\n",
    "    restecg = int(input(\"Resting ECG Results (0, 1, 2): \"))\n",
    "    thalach = int(input(\"Max Heart Rate Achieved: \"))\n",
    "    exang = int(input(\"Exercise-Induced Angina (1 = Yes, 0 = No): \"))\n",
    "    oldpeak = float(input(\"ST Depression Induced by Exercise: \"))\n",
    "    slope = int(input(\"Slope of Peak Exercise ST Segment (0, 1, 2): \"))\n",
    "    ca = int(input(\"Major Vessels Colored by Fluoroscopy (0-4): \"))\n",
    "    thal = int(input(\"Thalassemia (1 = Normal, 2 = Fixed Defect, 3 = Reversible Defect): \"))\n",
    "\n",
    "    # Gather inputs into a DataFrame for prediction\n",
    "    user_data = pd.DataFrame([[age, sex, cp, trestbps, chol, fbs, restecg, thalach, exang, oldpeak, slope, ca, thal]],\n",
    "                              columns=X.columns)  # Use the same feature names as X\n",
    "    print(\"\\nData entry successful.\")\n",
    "\n",
    "    # Step 1: Make a prediction using the trained model\n",
    "    prediction = knn.predict(user_data)\n",
    "\n",
    "    # Step 2: Display the prediction result\n",
    "    if prediction[0] == 1:\n",
    "        print(\"\\nPrediction Result: High Risk of Heart Disease.\")\n",
    "    else:\n",
    "        print(\"\\nPrediction Result: Low Risk of Heart Disease.\")\n",
    "\n",
    "except ValueError:\n",
    "    print(\"\\nInvalid input! Please enter numeric values only.\")\n",
    "\n"
   ]
  },
  {
   "cell_type": "code",
   "execution_count": 10,
   "id": "e8238331-c4f7-4233-867b-585246809444",
   "metadata": {},
   "outputs": [
    {
     "name": "stdout",
     "output_type": "stream",
     "text": [
      "\n",
      "Welcome to the Heart Disease Risk Prediction System.\n",
      "Please provide the following information for risk assessment:\n"
     ]
    },
    {
     "name": "stdin",
     "output_type": "stream",
     "text": [
      "Age:  20\n",
      "Sex (1 = Male, 0 = Female):  1\n",
      "Chest Pain Type (0, 1, 2, 3):  3\n",
      "Resting Blood Pressure (e.g., 120):  100\n",
      "Cholesterol Level (e.g., 200):  180\n",
      "Fasting Blood Sugar > 120 mg/dl (1 = Yes, 0 = No):  1\n",
      "Resting ECG Results (0, 1, 2):  1\n",
      "Max Heart Rate Achieved:  40\n",
      "Exercise-Induced Angina (1 = Yes, 0 = No):  1\n",
      "ST Depression Induced by Exercise:  20\n",
      "Slope of Peak Exercise ST Segment (0, 1, 2):  2\n",
      "Major Vessels Colored by Fluoroscopy (0-4):  3\n",
      "Thalassemia (1 = Normal, 2 = Fixed Defect, 3 = Reversible Defect):  2\n"
     ]
    },
    {
     "name": "stdout",
     "output_type": "stream",
     "text": [
      "\n",
      "Data entry successful.\n",
      "\n",
      "Prediction Result: High Risk of Heart Disease.\n"
     ]
    }
   ],
   "source": [
    "import pandas as pd\n",
    "\n",
    "# Introduction for the user\n",
    "print(\"\\nWelcome to the Heart Disease Risk Prediction System.\")\n",
    "print(\"Please provide the following information for risk assessment:\")\n",
    "\n",
    "# Collect user input with basic error handling\n",
    "try:\n",
    "    age = int(input(\"Age: \"))\n",
    "    sex = int(input(\"Sex (1 = Male, 0 = Female): \"))\n",
    "    cp = int(input(\"Chest Pain Type (0, 1, 2, 3): \"))\n",
    "    trestbps = int(input(\"Resting Blood Pressure (e.g., 120): \"))\n",
    "    chol = int(input(\"Cholesterol Level (e.g., 200): \"))\n",
    "    fbs = int(input(\"Fasting Blood Sugar > 120 mg/dl (1 = Yes, 0 = No): \"))\n",
    "    restecg = int(input(\"Resting ECG Results (0, 1, 2): \"))\n",
    "    thalach = int(input(\"Max Heart Rate Achieved: \"))\n",
    "    exang = int(input(\"Exercise-Induced Angina (1 = Yes, 0 = No): \"))\n",
    "    oldpeak = float(input(\"ST Depression Induced by Exercise: \"))\n",
    "    slope = int(input(\"Slope of Peak Exercise ST Segment (0, 1, 2): \"))\n",
    "    ca = int(input(\"Major Vessels Colored by Fluoroscopy (0-4): \"))\n",
    "    thal = int(input(\"Thalassemia (1 = Normal, 2 = Fixed Defect, 3 = Reversible Defect): \"))\n",
    "\n",
    "    # Gather inputs into a DataFrame for prediction\n",
    "    user_data = pd.DataFrame([[age, sex, cp, trestbps, chol, fbs, restecg, thalach, exang, oldpeak, slope, ca, thal]],\n",
    "                              columns=X.columns)  # Use the same feature names as X\n",
    "    print(\"\\nData entry successful.\")\n",
    "\n",
    "    # Step 1: Make a prediction using the trained model\n",
    "    prediction = knn.predict(user_data)\n",
    "\n",
    "    # Step 2: Display the prediction result\n",
    "    if prediction[0] == 1:\n",
    "        print(\"\\nPrediction Result: High Risk of Heart Disease.\")\n",
    "    else:\n",
    "        print(\"\\nPrediction Result: Low Risk of Heart Disease.\")\n",
    "\n",
    "except ValueError:\n",
    "    print(\"\\nInvalid input! Please enter numeric values only.\")\n",
    "\n"
   ]
  },
  {
   "cell_type": "code",
   "execution_count": null,
   "id": "11bfa717-67bc-486c-bb66-0fa0b2e40642",
   "metadata": {},
   "outputs": [],
   "source": [
    "\n"
   ]
  },
  {
   "cell_type": "code",
   "execution_count": null,
   "id": "d58fdb2a-4f66-432e-8509-3573bb88cdc1",
   "metadata": {},
   "outputs": [],
   "source": []
  }
 ],
 "metadata": {
  "kernelspec": {
   "display_name": "Python 3 (ipykernel)",
   "language": "python",
   "name": "python3"
  },
  "language_info": {
   "codemirror_mode": {
    "name": "ipython",
    "version": 3
   },
   "file_extension": ".py",
   "mimetype": "text/x-python",
   "name": "python",
   "nbconvert_exporter": "python",
   "pygments_lexer": "ipython3",
   "version": "3.11.9"
  }
 },
 "nbformat": 4,
 "nbformat_minor": 5
}
